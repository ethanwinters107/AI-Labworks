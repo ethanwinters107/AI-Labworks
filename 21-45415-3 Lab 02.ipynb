{
  "cells": [
    {
      "cell_type": "markdown",
      "metadata": {
        "id": "gVdgbvf19OA9"
      },
      "source": [
        "# About this notebook\n",
        "<p style=\"text-align: justify\"> Here, you will learn the basic statements of python and function. Some codes will be given for demonstration. Some other codes, you will do as excercise.</p>\n",
        "\n",
        "## Submission\n",
        "<p style=\"text-align: justify\">After completing the practice codes and exercises, download the notebook (.pynb file) and submit the notebook  to MS Teams inbox in the class period</p>\n",
        "<p> 1.<b> You must submit your own code</b>. If similarity found negative marking will be given.</p>\n",
        "<p> 2. Modify the file name writing your ID at the beigining of the file name.</p><p> <b>Example: 20-45961-3 Lab 02.ipynb</b></p>\n",
        "<p> 3. Other file format (except .pynb) or link will not be accepted.</p>"
      ]
    },
    {
      "cell_type": "markdown",
      "metadata": {
        "id": "sVSQpyqT9OBH"
      },
      "source": [
        "# User Input"
      ]
    },
    {
      "cell_type": "code",
      "execution_count": 1,
      "metadata": {
        "colab": {
          "base_uri": "https://localhost:8080/"
        },
        "id": "JPTt3qbo9OBI",
        "outputId": "fc3e027d-6400-41f2-e0bb-c092a365f3a4"
      },
      "outputs": [
        {
          "output_type": "stream",
          "name": "stdout",
          "text": [
            "Enter your last name Tanjim\n",
            "Welcome to AI course Tanjim!\n"
          ]
        }
      ],
      "source": [
        "# Basic User Input\n",
        "name = input(\"Enter your last name \")\n",
        "print(\"Welcome to AI course \" + name + \"!\")"
      ]
    },
    {
      "cell_type": "code",
      "source": [
        "# Taking Integer Input\n",
        "age = int(input(\"Enter your age: \"))\n",
        "print(\"You will be\", age + 2, \"years old afte 2 years.\")"
      ],
      "metadata": {
        "id": "YCouIBhhorBO",
        "colab": {
          "base_uri": "https://localhost:8080/"
        },
        "outputId": "6f335309-a4d8-4664-a226-18a10b4ec4ef"
      },
      "execution_count": 2,
      "outputs": [
        {
          "output_type": "stream",
          "name": "stdout",
          "text": [
            "Enter your age: 25\n",
            "You will be 27 years old afte 2 years.\n"
          ]
        }
      ]
    },
    {
      "cell_type": "code",
      "execution_count": 3,
      "metadata": {
        "colab": {
          "base_uri": "https://localhost:8080/"
        },
        "id": "WgnNFESa9OBL",
        "outputId": "cf2dbbb1-7355-4252-9cee-b5becd2caeb2"
      },
      "outputs": [
        {
          "output_type": "stream",
          "name": "stdout",
          "text": [
            "Enter four numbers separated by space: 2 3 5 8\n",
            "Sum: 18\n"
          ]
        }
      ],
      "source": [
        "#Taking Multiple Inputs (Space-Separated)\n",
        "a, b, c, d = map(int, input(\"Enter four numbers separated by space: \").split())\n",
        "print(\"Sum:\", a + b + c + d)"
      ]
    },
    {
      "cell_type": "code",
      "execution_count": 4,
      "metadata": {
        "id": "qGfffqzZ9OBM",
        "colab": {
          "base_uri": "https://localhost:8080/"
        },
        "outputId": "fbd51569-0532-4acc-c939-124d5e3a5868"
      },
      "outputs": [
        {
          "output_type": "stream",
          "name": "stdout",
          "text": [
            "Enter numbers separated by space: 3 6 8 2\n",
            "You entered: [3, 6, 8, 2]\n"
          ]
        }
      ],
      "source": [
        "# List Input from User\n",
        "numbers = list(map(int, input(\"Enter numbers separated by space: \").split()))\n",
        "print(\"You entered:\", numbers)"
      ]
    },
    {
      "cell_type": "code",
      "source": [
        "# Handling Invalid Input (Using Try-Except)\n",
        "try:\n",
        "    num = int(input(\"Enter a number: \"))\n",
        "    print(\"Cube of the number:\", num ** 3)\n",
        "except ValueError:\n",
        "    print(\"Please enter a valid number.\")\n"
      ],
      "metadata": {
        "colab": {
          "base_uri": "https://localhost:8080/"
        },
        "id": "66KPYYfXqq7a",
        "outputId": "d7c9700b-ebb3-4cf8-f701-cfbd8749c4d1"
      },
      "execution_count": 5,
      "outputs": [
        {
          "output_type": "stream",
          "name": "stdout",
          "text": [
            "Enter a number: 10\n",
            "Cube of the number: 1000\n"
          ]
        }
      ]
    },
    {
      "cell_type": "markdown",
      "metadata": {
        "id": "yd5uai6a9OBO"
      },
      "source": [
        "# if statement\n",
        "There can be zero or more elif parts, and the else part is optional. The keyword ‘elif’ is short for ‘else if’"
      ]
    },
    {
      "cell_type": "code",
      "source": [
        "# Basic if Statement\n",
        "age = int(input(\"Enter your age: \"))\n",
        "\n",
        "if age >= 18:\n",
        "    print(\"Congratulations You are eligible to vote.\")\n",
        "else:\n",
        "    print(\" sorry you are not eligible\")\n"
      ],
      "metadata": {
        "id": "cqSEL09hbhkl",
        "colab": {
          "base_uri": "https://localhost:8080/"
        },
        "outputId": "653a2d29-7830-41a2-dc82-df6fc6b35653"
      },
      "execution_count": 9,
      "outputs": [
        {
          "output_type": "stream",
          "name": "stdout",
          "text": [
            "Enter your age: 17\n",
            " sorry you are not eligible\n"
          ]
        }
      ]
    },
    {
      "cell_type": "code",
      "execution_count": 10,
      "metadata": {
        "colab": {
          "base_uri": "https://localhost:8080/"
        },
        "id": "bkNWtGEA9OBP",
        "outputId": "ea2f6561-dabf-4062-cd14-3fe8c6b5ce65"
      },
      "outputs": [
        {
          "output_type": "stream",
          "name": "stdout",
          "text": [
            "Enter a number: 5\n",
            "The number is odd.\n"
          ]
        }
      ],
      "source": [
        "#if-else Statement\n",
        "num = int(input(\"Enter a number: \"))\n",
        "\n",
        "if num % 2 == 0:\n",
        "  print(\"The number is even.\")\n",
        "else:\n",
        "  print(\"The number is odd.\")\n"
      ]
    },
    {
      "cell_type": "code",
      "execution_count": 11,
      "metadata": {
        "colab": {
          "base_uri": "https://localhost:8080/"
        },
        "id": "4-2lHhfa9OBQ",
        "outputId": "2855140c-d3e4-44c3-fb1c-46aee220fdbc"
      },
      "outputs": [
        {
          "output_type": "stream",
          "name": "stdout",
          "text": [
            "Enter your marks: 42\n",
            "Grade: F\n"
          ]
        }
      ],
      "source": [
        "# if-elif-else Statement\n",
        "marks = int(input(\"Enter your marks: \"))\n",
        "\n",
        "if marks >= 92:\n",
        "    print(\"Grade: A\")\n",
        "elif marks >= 82:\n",
        "    print(\"Grade: B\")\n",
        "elif marks >= 72:\n",
        "    print(\"Grade: C\")\n",
        "elif marks >= 62:\n",
        "    print(\"Grade: D\")\n",
        "else:\n",
        "    print(\"Grade: F\")\n"
      ]
    },
    {
      "cell_type": "code",
      "source": [
        "# Checking Multiple Conditions (and, or)\n",
        "temperature = float(input(\"Enter the temperature: \"))\n",
        "\n",
        "if temperature > 30 and temperature < 40:\n",
        "    print(\"It's a sunny day.\")\n",
        "elif temperature >= 40:\n",
        "    print(\"It's extremely hot! Please take caution.\")\n",
        "else:\n",
        "    print(\"The weather is normal.Enjoy the day !\")\n"
      ],
      "metadata": {
        "colab": {
          "base_uri": "https://localhost:8080/"
        },
        "id": "2LqnpBbure3B",
        "outputId": "61b8b6eb-e4b2-48fe-e145-c5ecdb85d1a6"
      },
      "execution_count": 12,
      "outputs": [
        {
          "output_type": "stream",
          "name": "stdout",
          "text": [
            "Enter the temperature: 20\n",
            "The weather is normal.Enjoy the day !\n"
          ]
        }
      ]
    },
    {
      "cell_type": "code",
      "source": [
        "# Nested if Statement\n",
        "num = int(input(\"Enter a number: \"))\n",
        "\n",
        "if num > 0:\n",
        "    print(\"Thats a positive number.\")\n",
        "    if num % 2 == 0:\n",
        "        print(\"Thats even\")\n",
        "    else:\n",
        "        print(\"Thats odd\")\n",
        "elif num < 0:\n",
        "    print(\"The number is negative.\")\n",
        "else:\n",
        "    print(\"The number is zero.\")\n"
      ],
      "metadata": {
        "colab": {
          "base_uri": "https://localhost:8080/"
        },
        "id": "VaSAD9Z0rnGo",
        "outputId": "aefd52fd-936a-426e-f97d-5de775a4b38c"
      },
      "execution_count": 13,
      "outputs": [
        {
          "output_type": "stream",
          "name": "stdout",
          "text": [
            "Enter a number: 20\n",
            "Thats a positive number.\n",
            "Thats even\n"
          ]
        }
      ]
    },
    {
      "cell_type": "markdown",
      "metadata": {
        "id": "BLPDtgWr9OBT"
      },
      "source": [
        "# for statement\n",
        "<p style=\"text-align: justify\">The for statement in Python differs a bit from what you may be used to in C or C++. Rather than always giving the user the ability to define both the iteration step and halting condition, Python’s for statement iterates over the items of any sequence (a list or a string), in the order that they appear in the sequence.</p>"
      ]
    },
    {
      "cell_type": "code",
      "execution_count": 14,
      "metadata": {
        "colab": {
          "base_uri": "https://localhost:8080/"
        },
        "id": "k6eiUKVF9OBU",
        "outputId": "ce029923-545a-4f12-ba06-fc97a5919c43"
      },
      "outputs": [
        {
          "output_type": "stream",
          "name": "stdout",
          "text": [
            "Iteration: 0\n",
            "Iteration: 1\n",
            "Iteration: 2\n",
            "Iteration: 3\n",
            "Iteration: 4\n",
            "Iteration: 5\n",
            "Iteration: 6\n",
            "Iteration: 7\n",
            "Iteration: 8\n",
            "Iteration: 9\n"
          ]
        }
      ],
      "source": [
        "#Basic for Loop\n",
        "for i in range(10):\n",
        "    print(\"Iteration:\", i)\n"
      ]
    },
    {
      "cell_type": "code",
      "source": [
        "# for Loop Over a List\n",
        "fruits = [\"cherry\", \"papaya\", \"Guava\"]\n",
        "\n",
        "for fruit in fruits:\n",
        "    print(fruit)\n"
      ],
      "metadata": {
        "colab": {
          "base_uri": "https://localhost:8080/"
        },
        "id": "-FTCswVpc4Dd",
        "outputId": "4ce014ef-328e-4d31-b5c6-edb4165d4eea"
      },
      "execution_count": 16,
      "outputs": [
        {
          "output_type": "stream",
          "name": "stdout",
          "text": [
            "cherry\n",
            "papaya\n",
            "Guava\n"
          ]
        }
      ]
    },
    {
      "cell_type": "code",
      "source": [
        "# Looping Through a String\n",
        "word = \"Halleluah\"\n",
        "\n",
        "for char in word:\n",
        "    print(char)\n"
      ],
      "metadata": {
        "colab": {
          "base_uri": "https://localhost:8080/"
        },
        "id": "NdM3WOnovXx2",
        "outputId": "ba7e0af2-8e53-4701-b614-c90f3984124f"
      },
      "execution_count": 17,
      "outputs": [
        {
          "output_type": "stream",
          "name": "stdout",
          "text": [
            "H\n",
            "a\n",
            "l\n",
            "l\n",
            "e\n",
            "l\n",
            "u\n",
            "a\n",
            "h\n"
          ]
        }
      ]
    },
    {
      "cell_type": "code",
      "source": [
        "# Looping with range(start, stop, step)\n",
        "for i in range(1, 120, 25):\n",
        "    print(i)\n"
      ],
      "metadata": {
        "colab": {
          "base_uri": "https://localhost:8080/"
        },
        "id": "B-5xBavXMl2m",
        "outputId": "4b4d2dbd-3e39-4dc2-9da6-ed38df22c273"
      },
      "execution_count": 18,
      "outputs": [
        {
          "output_type": "stream",
          "name": "stdout",
          "text": [
            "1\n",
            "26\n",
            "51\n",
            "76\n",
            "101\n"
          ]
        }
      ]
    },
    {
      "cell_type": "code",
      "source": [
        "# Looping Over a Dictionary\n",
        "student = {\"name\": \"Tansnim\", \"age\": 22, \"grade\": \"A+\"}\n",
        "\n",
        "for key, value in student.items():\n",
        "    print(key, \">\", value)\n"
      ],
      "metadata": {
        "colab": {
          "base_uri": "https://localhost:8080/"
        },
        "id": "-XYDNRM5M6vy",
        "outputId": "abbcd15a-1c9e-47c9-ddcf-341463f274f3"
      },
      "execution_count": 20,
      "outputs": [
        {
          "output_type": "stream",
          "name": "stdout",
          "text": [
            "name > Tansnim\n",
            "age > 22\n",
            "grade > A+\n"
          ]
        }
      ]
    },
    {
      "cell_type": "code",
      "source": [
        "# Using for Loop with enumerate()\n",
        "colors = [\"Red\", \"Green\", \"Yellow\"]\n",
        "\n",
        "for index, color in enumerate(colors):\n",
        "    print(index, \">\", color)\n"
      ],
      "metadata": {
        "colab": {
          "base_uri": "https://localhost:8080/"
        },
        "id": "lwn8tUUxNFbv",
        "outputId": "c39c83eb-6eff-4d11-ac3a-4b69d091b334"
      },
      "execution_count": 21,
      "outputs": [
        {
          "output_type": "stream",
          "name": "stdout",
          "text": [
            "0 > Red\n",
            "1 > Green\n",
            "2 > Yellow\n"
          ]
        }
      ]
    },
    {
      "cell_type": "code",
      "source": [
        "# Nested for Loop\n",
        "for a in range(1, 3):\n",
        "    for b in range(1, 3):\n",
        "        print(f\"a={a}, b={b}\")\n"
      ],
      "metadata": {
        "colab": {
          "base_uri": "https://localhost:8080/"
        },
        "id": "7V6W6i6ysOm6",
        "outputId": "455d7bbf-8fee-4309-a142-3d5c5fe769bb"
      },
      "execution_count": 25,
      "outputs": [
        {
          "output_type": "stream",
          "name": "stdout",
          "text": [
            "a=1, b=1\n",
            "a=1, b=2\n",
            "a=2, b=1\n",
            "a=2, b=2\n"
          ]
        }
      ]
    },
    {
      "cell_type": "code",
      "source": [
        "# for Loop with break and continue\n",
        "for num in range(1, 6):\n",
        "    if num == 2:\n",
        "        continue  # Skips 2\n",
        "    if num == 5:\n",
        "        break  # Stops loop at 5\n",
        "    print(num)\n"
      ],
      "metadata": {
        "colab": {
          "base_uri": "https://localhost:8080/"
        },
        "id": "eljpCkgZsSGK",
        "outputId": "7487c0b4-545a-4899-cce1-97c70b38a3b2"
      },
      "execution_count": 26,
      "outputs": [
        {
          "output_type": "stream",
          "name": "stdout",
          "text": [
            "1\n",
            "3\n",
            "4\n"
          ]
        }
      ]
    },
    {
      "cell_type": "markdown",
      "metadata": {
        "id": "UpWE7Kch9OBd"
      },
      "source": [
        "# Functions\n",
        "<p style=\"text-align: justify\">The keyword def introduces a function definition. It must be followed by the function name and the parenthesized list of formal parameters. The statements that form the body of the function start at the next line, and must be indented.</p>"
      ]
    },
    {
      "cell_type": "code",
      "source": [
        "# Basic Function (No Parameters, No Return)\n",
        "def greet():\n",
        "    print(\"Welcome to AI course\")\n",
        "\n",
        "greet()  # Calling the function\n"
      ],
      "metadata": {
        "colab": {
          "base_uri": "https://localhost:8080/"
        },
        "id": "6ewe2yQXso3A",
        "outputId": "60aaf73d-113a-447b-a770-752d4879d750"
      },
      "execution_count": 27,
      "outputs": [
        {
          "output_type": "stream",
          "name": "stdout",
          "text": [
            "Welcome to AI course\n"
          ]
        }
      ]
    },
    {
      "cell_type": "code",
      "source": [
        "# Function with Parameters\n",
        "def add_numbers(a, b, c):\n",
        "    print(\"Sum:\", a + b + c)\n",
        "\n",
        "add_numbers(5, 3, 5)  # Output: Sum: 13\n"
      ],
      "metadata": {
        "colab": {
          "base_uri": "https://localhost:8080/"
        },
        "id": "Eva9fj0esshV",
        "outputId": "8a86633b-ace2-4a7b-bde1-958fa8cbb528"
      },
      "execution_count": 30,
      "outputs": [
        {
          "output_type": "stream",
          "name": "stdout",
          "text": [
            "Sum: 13\n"
          ]
        }
      ]
    },
    {
      "cell_type": "code",
      "source": [
        "# Function with Return Value\n",
        "def multiply(a, b):\n",
        "    return a * b\n",
        "\n",
        "result = multiply(2, 7)\n",
        "print(\"Multiplication:\", result)  # Output: 14\n"
      ],
      "metadata": {
        "colab": {
          "base_uri": "https://localhost:8080/"
        },
        "id": "qvT9R8yLs07w",
        "outputId": "2f2cab70-ef88-4edb-f500-ad2357b7f9c8"
      },
      "execution_count": 31,
      "outputs": [
        {
          "output_type": "stream",
          "name": "stdout",
          "text": [
            "Multiplication: 14\n"
          ]
        }
      ]
    },
    {
      "cell_type": "code",
      "source": [
        "# Function with Default Parameter\n",
        "def greet(name=\"Guest user\"):\n",
        "    print(\"Meow,\", name)\n",
        "\n",
        "greet()          # Output: Hello, Guest\n",
        "greet(\"Tasnim\")   # Output: Hello, Alice\n"
      ],
      "metadata": {
        "colab": {
          "base_uri": "https://localhost:8080/"
        },
        "id": "n2Hmd9kZs50X",
        "outputId": "95e8c57f-4afd-4ad3-e94c-ef3bf10afef9"
      },
      "execution_count": 32,
      "outputs": [
        {
          "output_type": "stream",
          "name": "stdout",
          "text": [
            "Meow, Guest user\n",
            "Meow, Tasnim\n"
          ]
        }
      ]
    },
    {
      "cell_type": "code",
      "source": [
        "# Function with Multiple Return Values\n",
        "def get_square_and_cube(n):\n",
        "    return n**2, n**3\n",
        "\n",
        "square, cube = get_square_and_cube(3)\n",
        "print(\"Square:\", square, \"Cube:\", cube)  # Output: Square: 9, Cube: 27\n"
      ],
      "metadata": {
        "colab": {
          "base_uri": "https://localhost:8080/"
        },
        "id": "H7O-H8mbtBSM",
        "outputId": "88021b0e-f539-4e2d-efd9-4ca4963ab92b"
      },
      "execution_count": 33,
      "outputs": [
        {
          "output_type": "stream",
          "name": "stdout",
          "text": [
            "Square: 9 Cube: 27\n"
          ]
        }
      ]
    },
    {
      "cell_type": "code",
      "source": [
        "# Function Using *args (Multiple Arguments)\n",
        "def add_all(*numbers):\n",
        "    return sum(numbers)\n",
        "\n",
        "print(add_all(1, 2, 3, 5, 7, 9, 15))  # Output: 42\n"
      ],
      "metadata": {
        "colab": {
          "base_uri": "https://localhost:8080/"
        },
        "id": "kIdmOaxitGAR",
        "outputId": "4e0ce5fb-5e9f-4924-c0d2-dcacd0bcca4e"
      },
      "execution_count": 35,
      "outputs": [
        {
          "output_type": "stream",
          "name": "stdout",
          "text": [
            "42\n"
          ]
        }
      ]
    },
    {
      "cell_type": "markdown",
      "source": [
        "<b>Exercise 1:</b> Write a Python program to find the sum of the first N natural numbers using a for loop.<br>\n",
        "Example:<br>\n",
        "Input: N = 5  \n",
        "Output: 15\n"
      ],
      "metadata": {
        "id": "CVf1xuAst3a6"
      }
    },
    {
      "cell_type": "code",
      "source": [
        "#CODE\n",
        "n = int(input(\"Enter a number: \"))\n",
        "sum = 0\n",
        "\n",
        "for i in range(1, n + 1):\n",
        "    sum += i\n",
        "\n",
        "print(\"Sum:\", sum)\n"
      ],
      "metadata": {
        "id": "iRWd9j10t_sq",
        "colab": {
          "base_uri": "https://localhost:8080/"
        },
        "outputId": "c34a87b9-37d9-427f-e49b-2b7e70f3e2fe"
      },
      "execution_count": 36,
      "outputs": [
        {
          "output_type": "stream",
          "name": "stdout",
          "text": [
            "Enter a number: 5\n",
            "Sum: 15\n"
          ]
        }
      ]
    },
    {
      "cell_type": "markdown",
      "source": [
        "<b>Exercise 2:</b> Write a Python program that reverses a string using a for loop.<br>\n",
        "Example: <br>\n",
        "Input: \"Python\"  \n",
        "Output: \"nohtyP\"\n"
      ],
      "metadata": {
        "id": "xT01zayjuYue"
      }
    },
    {
      "cell_type": "code",
      "source": [
        "#CODE\n",
        "s = input(\"Enter a string: \")\n",
        "reversed_s = \"\"\n",
        "\n",
        "for char in s:\n",
        "    reversed_s = char + reversed_s\n",
        "\n",
        "print(\"Reversed:\", reversed_s)\n"
      ],
      "metadata": {
        "id": "rr5KvZkkuxi4",
        "colab": {
          "base_uri": "https://localhost:8080/"
        },
        "outputId": "252c1f54-19cd-4b3f-9969-a5b78a37874e"
      },
      "execution_count": 37,
      "outputs": [
        {
          "output_type": "stream",
          "name": "stdout",
          "text": [
            "Enter a string: Python\n",
            "Reversed: nohtyP\n"
          ]
        }
      ]
    },
    {
      "cell_type": "markdown",
      "metadata": {
        "id": "ICNPFsDQ9OBh"
      },
      "source": [
        "<b>Exercise 3:</b> Define a <b>method/function</b> which will take two lists of numbers and returns a list (sum of two lists)\n",
        "<p>Example:<br>\n",
        "    Input: [3,4,5,1] and [6,7,2,8]<br>\n",
        "    output: [9,11,7,9]</p>\n"
      ]
    },
    {
      "cell_type": "code",
      "execution_count": 38,
      "metadata": {
        "id": "5MPMcHnz9OBi",
        "colab": {
          "base_uri": "https://localhost:8080/"
        },
        "outputId": "b36bb491-d5eb-4da1-a3f2-7ae6ff170436"
      },
      "outputs": [
        {
          "output_type": "stream",
          "name": "stdout",
          "text": [
            "Sum of the two lists: [9, 11, 7, 9]\n"
          ]
        }
      ],
      "source": [
        "# code\n",
        "def sum_lists(list1, list2):\n",
        "    return [list1[i] + list2[i] for i in range(len(list1))]\n",
        "\n",
        "# Example usage\n",
        "list1 = [3, 4, 5, 1]\n",
        "list2 = [6, 7, 2, 8]\n",
        "\n",
        "result = sum_lists(list1, list2)\n",
        "print(\"Sum of the two lists:\", result)\n"
      ]
    },
    {
      "cell_type": "markdown",
      "metadata": {
        "id": "DSjaC86G9OBi"
      },
      "source": [
        "<b> Exercise 4:</b> Write a <b>method</b> which will take the <b>full name</b> as input and return both the first name and last name.\n",
        "<p>Example:<br>\n",
        "    Input: Arafat Rahman Sunny<br>\n",
        "    Output: First name: Arafat, Last name: Sunny</p>"
      ]
    },
    {
      "cell_type": "code",
      "execution_count": 39,
      "metadata": {
        "id": "HCpI48lj9OBi",
        "colab": {
          "base_uri": "https://localhost:8080/"
        },
        "outputId": "5fdd9238-f406-4124-f77c-5144b7a6e9f2"
      },
      "outputs": [
        {
          "output_type": "stream",
          "name": "stdout",
          "text": [
            "Enter full name: Tanjim Israk Dihan\n",
            "First name: Tanjim, Last name: Dihan\n"
          ]
        }
      ],
      "source": [
        "# code\n",
        "def split_name(full_name):\n",
        "    name_parts = full_name.split()\n",
        "    first_name = name_parts[0]\n",
        "    last_name = name_parts[-1]\n",
        "    return first_name, last_name\n",
        "\n",
        "# Example usage\n",
        "full_name = input(\"Enter full name: \")\n",
        "first_name, last_name = split_name(full_name)\n",
        "\n",
        "print(f\"First name: {first_name}, Last name: {last_name}\")\n"
      ]
    },
    {
      "cell_type": "markdown",
      "source": [
        "**Do More Exercises**"
      ],
      "metadata": {
        "id": "5sptH6NJu6CD"
      }
    }
  ],
  "metadata": {
    "kernelspec": {
      "display_name": "Python 3",
      "language": "python",
      "name": "python3"
    },
    "language_info": {
      "codemirror_mode": {
        "name": "ipython",
        "version": 3
      },
      "file_extension": ".py",
      "mimetype": "text/x-python",
      "name": "python",
      "nbconvert_exporter": "python",
      "pygments_lexer": "ipython3",
      "version": "3.8.5"
    },
    "colab": {
      "provenance": []
    }
  },
  "nbformat": 4,
  "nbformat_minor": 0
}