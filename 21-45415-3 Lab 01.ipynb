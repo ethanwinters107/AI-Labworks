{
  "cells": [
    {
      "cell_type": "markdown",
      "metadata": {
        "id": "tUakohw5RzmN"
      },
      "source": [
        "# About this notebook\n",
        "<p style=\"text-align: justify\"> Here, you will learn the basic coding and data structures including numbers, strings, list, dictionaries and more. Some codes already done for demonstration. Some other codes, you will do as excercises.</p>\n",
        "\n",
        "## Submission\n",
        "<p style=\"text-align: justify\">After completing the practice codes and exercises, download the notebook (.pynb file) and submit the notebook  to MS Teams inbox in the class period</p>\n",
        "<p> 1.<b> You must submit your own code</b>. If similarity found negative marking will be given.</p>\n",
        "<p> 2. Modify the file name writing ID at the beigining of the file name. </p><p><b>Example: 20-45961-3 Lab 01.ipynb</b></p>\n",
        "<p> 3. Other file format (except .pynb) or link will not be accepted.</p>"
      ]
    },
    {
      "cell_type": "markdown",
      "metadata": {
        "id": "iQlhsnAxRzmQ"
      },
      "source": [
        "# Number"
      ]
    },
    {
      "cell_type": "markdown",
      "source": [
        "**Basic Arithmetic Operations**"
      ],
      "metadata": {
        "id": "o2tdR7GeesS-"
      }
    },
    {
      "cell_type": "code",
      "execution_count": 1,
      "metadata": {
        "id": "EgjVFy62RzmR",
        "outputId": "8c1bac6e-2b37-46ee-8bd2-e12e8080dee1",
        "colab": {
          "base_uri": "https://localhost:8080/"
        }
      },
      "outputs": [
        {
          "output_type": "stream",
          "name": "stdout",
          "text": [
            "Sum: 22, Difference: 8, Product: 105, Division: 2.142857142857143\n"
          ]
        }
      ],
      "source": [
        "# Addition, Subtraction, Multiplication, Division\n",
        "a = 15\n",
        "b = 7\n",
        "\n",
        "sum_result = a + b\n",
        "difference_result = a - b\n",
        "product_result = a * b\n",
        "division_result = a / b\n",
        "\n",
        "print(f\"Sum: {sum_result}, Difference: {difference_result}, Product: {product_result}, Division: {division_result}\")\n"
      ]
    },
    {
      "cell_type": "markdown",
      "source": [
        "**Exponentiation and Modulus**"
      ],
      "metadata": {
        "id": "L1A8cyZhel8G"
      }
    },
    {
      "cell_type": "code",
      "execution_count": 4,
      "metadata": {
        "id": "F0FimSxMRzmS",
        "outputId": "4f3b14c9-84a5-4e1c-f03a-24e7ba11c70b",
        "colab": {
          "base_uri": "https://localhost:8080/"
        }
      },
      "outputs": [
        {
          "output_type": "stream",
          "name": "stdout",
          "text": [
            "Power: 64, Modulus: 1\n"
          ]
        }
      ],
      "source": [
        "# Exponentiation (Power) and Modulus (Remainder)\n",
        "base = 4\n",
        "exponent = 3\n",
        "\n",
        "power_result = base ** exponent\n",
        "modulus_result = a % b\n",
        "\n",
        "print(f\"Power: {power_result}, Modulus: {modulus_result}\")"
      ]
    },
    {
      "cell_type": "markdown",
      "source": [
        "**Floor Division**"
      ],
      "metadata": {
        "id": "5J_-KzeDe4l2"
      }
    },
    {
      "cell_type": "code",
      "execution_count": 5,
      "metadata": {
        "id": "CjDuJ9zqRzmS",
        "outputId": "81d11e53-7b1d-4b0d-db30-af7441d365cf",
        "colab": {
          "base_uri": "https://localhost:8080/"
        }
      },
      "outputs": [
        {
          "output_type": "stream",
          "name": "stdout",
          "text": [
            "Floor Division: 2\n"
          ]
        }
      ],
      "source": [
        "# Floor Division\n",
        "floor_result = a // b   # floored division result\n",
        "\n",
        "print(f\"Floor Division: {floor_result}\")"
      ]
    },
    {
      "cell_type": "markdown",
      "source": [
        "**Absolute Value and Rounding**"
      ],
      "metadata": {
        "id": "mBRQRK5Me-a2"
      }
    },
    {
      "cell_type": "code",
      "execution_count": 6,
      "metadata": {
        "id": "q8eSw206RzmT",
        "outputId": "042deb95-3fc1-4bf7-961c-0f5fbe1fd598",
        "colab": {
          "base_uri": "https://localhost:8080/"
        }
      },
      "outputs": [
        {
          "output_type": "stream",
          "name": "stdout",
          "text": [
            "Absolute Value: 9.5, Rounded Value: -10\n"
          ]
        }
      ],
      "source": [
        "# Absolute Value and Rounding\n",
        "negative_number = -9.5\n",
        "\n",
        "absolute_value = abs(negative_number)\n",
        "rounded_value = round(negative_number)\n",
        "\n",
        "print(f\"Absolute Value: {absolute_value}, Rounded Value: {rounded_value}\")"
      ]
    },
    {
      "cell_type": "markdown",
      "source": [
        "**Using the math module for advanced number operations**"
      ],
      "metadata": {
        "id": "hlzr4PFFfFce"
      }
    },
    {
      "cell_type": "code",
      "execution_count": null,
      "metadata": {
        "id": "NiPvZZDiRzmT",
        "outputId": "3daf9614-1284-4dea-cdfc-b3c8dccecd1e",
        "colab": {
          "base_uri": "https://localhost:8080/"
        }
      },
      "outputs": [
        {
          "output_type": "stream",
          "name": "stdout",
          "text": [
            "Square Root: 4.0, Factorial: 120, sin(30 degrees): 0.49999999999999994\n"
          ]
        }
      ],
      "source": [
        "import math\n",
        "\n",
        "# Square root, Factorial, and Trigonometric functions\n",
        "square_root = math.sqrt(16)\n",
        "factorial_result = math.factorial(5)\n",
        "sin_value = math.sin(math.radians(30))\n",
        "\n",
        "print(f\"Square Root: {square_root}, Factorial: {factorial_result}, sin(30 degrees): {sin_value}\")"
      ]
    },
    {
      "cell_type": "markdown",
      "source": [
        "**Random Number Generation**"
      ],
      "metadata": {
        "id": "xDRpa1dAfMAe"
      }
    },
    {
      "cell_type": "code",
      "execution_count": 13,
      "metadata": {
        "id": "DxWMtt3-RzmU",
        "colab": {
          "base_uri": "https://localhost:8080/"
        },
        "outputId": "587962c8-f09f-4996-f66b-46d3a5242d2a"
      },
      "outputs": [
        {
          "output_type": "stream",
          "name": "stdout",
          "text": [
            "Random Number: 124\n",
            "Random Float: 0.9586368309500921\n"
          ]
        }
      ],
      "source": [
        "import random\n",
        "\n",
        "# Generate a random number between 1 and 100\n",
        "random_number = random.randint(30, 300)\n",
        "print(f\"Random Number: {random_number}\")\n",
        "\n",
        "# Generate a random float between 0 and 1\n",
        "random_float = random.random()\n",
        "print(f\"Random Float: {random_float}\")"
      ]
    },
    {
      "cell_type": "markdown",
      "metadata": {
        "id": "SKFSp-jyRzmW"
      },
      "source": [
        "<b>Note:</b> A cell in Python will only display the value of the last expression. If you want to output other values, you should use the *print()* function."
      ]
    },
    {
      "cell_type": "markdown",
      "metadata": {
        "id": "mzYaXui8RzmX"
      },
      "source": [
        "# Object types\n",
        "The basic object types are Numbers, Strings, Lists, Dictionaries, Tuples, Files and Other types (Sets, types, None, Booleans etc.)"
      ]
    },
    {
      "cell_type": "markdown",
      "source": [
        "**Integer and Float**"
      ],
      "metadata": {
        "id": "Kr5AuYMAnIfW"
      }
    },
    {
      "cell_type": "code",
      "source": [
        "a=10\n",
        "b=3.3"
      ],
      "metadata": {
        "id": "m9Ph-hDmteoA"
      },
      "execution_count": 15,
      "outputs": []
    },
    {
      "cell_type": "code",
      "execution_count": 16,
      "metadata": {
        "id": "2RVFS2BPRzmX",
        "outputId": "afb8c71e-811d-4ebe-c7aa-9aab6ea0c74e",
        "colab": {
          "base_uri": "https://localhost:8080/"
        }
      },
      "outputs": [
        {
          "output_type": "stream",
          "name": "stdout",
          "text": [
            "<class 'int'>\n",
            "<class 'float'>\n"
          ]
        }
      ],
      "source": [
        "# Checking the type of an object\n",
        "print(type(a))\n",
        "print(type(b))"
      ]
    },
    {
      "cell_type": "markdown",
      "source": [
        "**String**"
      ],
      "metadata": {
        "id": "SvfqJBZ9nYBt"
      }
    },
    {
      "cell_type": "code",
      "execution_count": 17,
      "metadata": {
        "id": "YgdInV-bRzmZ",
        "outputId": "b3416f9b-9d73-48e9-bb14-8340f4bc525d",
        "colab": {
          "base_uri": "https://localhost:8080/"
        }
      },
      "outputs": [
        {
          "output_type": "stream",
          "name": "stdout",
          "text": [
            "Hello, Tasnim\n"
          ]
        }
      ],
      "source": [
        "# Concatenation\n",
        "greeting = \"Good Morning, \"\n",
        "name = \"Tasnim\"\n",
        "message = greeting + name  # Combine strings\n",
        "print(message)"
      ]
    },
    {
      "cell_type": "code",
      "execution_count": 18,
      "metadata": {
        "id": "SApsog7_RzmZ",
        "outputId": "7da8eb54-deba-4bb8-ac1d-290d5ec89101",
        "colab": {
          "base_uri": "https://localhost:8080/"
        }
      },
      "outputs": [
        {
          "output_type": "stream",
          "name": "stdout",
          "text": [
            "Meow :3 Meow :3 Meow :3 \n"
          ]
        }
      ],
      "source": [
        "# Repetition\n",
        "repeat_string = \"Meow :3 \" * 3\n",
        "print(repeat_string)"
      ]
    },
    {
      "cell_type": "code",
      "source": [
        "# Slicing\n",
        "text = \"Hello, World!\"\n",
        "substring = text[5:12]  # Extract substring\n",
        "print(substring)"
      ],
      "metadata": {
        "colab": {
          "base_uri": "https://localhost:8080/"
        },
        "id": "paYi-atNn01N",
        "outputId": "b53d6fe2-5d8a-469a-e3d9-7705a6013f47"
      },
      "execution_count": 24,
      "outputs": [
        {
          "output_type": "stream",
          "name": "stdout",
          "text": [
            ", World\n"
          ]
        }
      ]
    },
    {
      "cell_type": "code",
      "execution_count": 25,
      "metadata": {
        "id": "BfxzLD9HRzma",
        "outputId": "ce72b0f8-0c18-4c08-8b95-29d682d8bdca",
        "colab": {
          "base_uri": "https://localhost:8080/"
        }
      },
      "outputs": [
        {
          "output_type": "stream",
          "name": "stdout",
          "text": [
            "CASE SENSITIVE\n",
            "case sensitive\n"
          ]
        }
      ],
      "source": [
        "# Changing case\n",
        "text = \"case sensitive\"\n",
        "upper_case = text.upper()  # Convert to uppercase\n",
        "lower_case = text.lower()  # Convert to lowercase\n",
        "print(upper_case)\n",
        "print(lower_case)"
      ]
    },
    {
      "cell_type": "code",
      "execution_count": 26,
      "metadata": {
        "id": "BNSbM0HNRzma",
        "outputId": "bc2be033-ba7c-4f91-dc6d-62f203e39489",
        "colab": {
          "base_uri": "https://localhost:8080/"
        }
      },
      "outputs": [
        {
          "output_type": "stream",
          "name": "stdout",
          "text": [
            "extra blank spaces are trimmed\n"
          ]
        }
      ],
      "source": [
        "# Stripping whitespace\n",
        "text = \"   extra blank spaces are trimmed   \"\n",
        "stripped_text = text.strip()  # Removes spaces from both ends\n",
        "print(stripped_text)"
      ]
    },
    {
      "cell_type": "code",
      "execution_count": 28,
      "metadata": {
        "id": "v6WtfbxURzma",
        "outputId": "590beddf-d303-4837-cb69-559324a042b6",
        "colab": {
          "base_uri": "https://localhost:8080/"
        }
      },
      "outputs": [
        {
          "output_type": "stream",
          "name": "stdout",
          "text": [
            "17\n"
          ]
        }
      ],
      "source": [
        "# Finding substring\n",
        "text = \"this detects the substring starting point\"\n",
        "index = text.find(\"substring\")  # Returns the index where \"substring\" starts\n",
        "print(index)"
      ]
    },
    {
      "cell_type": "code",
      "execution_count": 29,
      "metadata": {
        "id": "itSLVn7SRzmb",
        "outputId": "0108f40b-97b9-41d8-bbcf-aadd1d758e08",
        "colab": {
          "base_uri": "https://localhost:8080/"
        }
      },
      "outputs": [
        {
          "output_type": "stream",
          "name": "stdout",
          "text": [
            " Hello Tanjim\n"
          ]
        }
      ],
      "source": [
        "# Replacing substring\n",
        "text = \" Hello Tanjim\"\n",
        "new_text = text.replace(\"World\" , \"Tasnim\")\n",
        "print(new_text)"
      ]
    },
    {
      "cell_type": "code",
      "execution_count": 32,
      "metadata": {
        "id": "AaNhu8QMRzmb",
        "outputId": "7f51a023-2a01-4caa-e771-f4b9facdf065",
        "colab": {
          "base_uri": "https://localhost:8080/"
        }
      },
      "outputs": [
        {
          "output_type": "stream",
          "name": "stdout",
          "text": [
            "True\n",
            "False\n"
          ]
        }
      ],
      "source": [
        "# Checking substring existence\n",
        "text = \"Checking existence\"\n",
        "contains_Checking = \"Checking\" in text\n",
        "contains_python = \"Python\" in text\n",
        "print(contains_Checking)\n",
        "print(contains_python)"
      ]
    },
    {
      "cell_type": "code",
      "source": [
        "# String length\n",
        "text = \"Checking length\"\n",
        "length = len(text)\n",
        "print(length)"
      ],
      "metadata": {
        "id": "MZ8PWiGzeKhU",
        "colab": {
          "base_uri": "https://localhost:8080/"
        },
        "outputId": "ed2e1dea-f5e9-48e9-b278-5fdc45bc299a"
      },
      "execution_count": 33,
      "outputs": [
        {
          "output_type": "stream",
          "name": "stdout",
          "text": [
            "15\n"
          ]
        }
      ]
    },
    {
      "cell_type": "code",
      "execution_count": 35,
      "metadata": {
        "id": "k9ICF4NARzmb",
        "outputId": "ee170f8c-bf5e-4479-a89e-1aeee41d04f9",
        "colab": {
          "base_uri": "https://localhost:8080/"
        }
      },
      "outputs": [
        {
          "output_type": "stream",
          "name": "stdout",
          "text": [
            "['guava', 'cherry', 'papaya']\n"
          ]
        }
      ],
      "source": [
        "# Splitting string\n",
        "text = \"guava,cherry,papaya\"\n",
        "fruits = text.split(\",\")  # Split by comma\n",
        "print(fruits)"
      ]
    },
    {
      "cell_type": "code",
      "execution_count": 36,
      "metadata": {
        "id": "J6Q9RXwSRzmb",
        "colab": {
          "base_uri": "https://localhost:8080/"
        },
        "outputId": "a6b6b86f-11bd-4e02-b631-bfccb9531d12"
      },
      "outputs": [
        {
          "output_type": "stream",
          "name": "stdout",
          "text": [
            "guava, cherry, papaya\n"
          ]
        }
      ],
      "source": [
        "# Joining strings\n",
        "fruits = ['guava', 'cherry', 'papaya']\n",
        "joined_fruits = \", \".join(fruits)\n",
        "print(joined_fruits)"
      ]
    },
    {
      "cell_type": "code",
      "source": [
        "# String formatting\n",
        "name = \"Dimitrescu\"\n",
        "age = 31\n",
        "formatted_string = f\"My name is {name} and I am {age} years old.\"\n",
        "print(formatted_string)"
      ],
      "metadata": {
        "colab": {
          "base_uri": "https://localhost:8080/"
        },
        "id": "C-SjRINtoWMa",
        "outputId": "79edebbe-db5f-4e51-beb8-9bc3df1357d7"
      },
      "execution_count": 37,
      "outputs": [
        {
          "output_type": "stream",
          "name": "stdout",
          "text": [
            "My name is Dimitrescu and I am 31 years old.\n"
          ]
        }
      ]
    },
    {
      "cell_type": "code",
      "source": [
        "# Checking start or end\n",
        "text = \"Leap of Faith\"\n",
        "starts_with_Faith = text.startswith(\"Faith\")\n",
        "ends_with_Faith = text.endswith(\"Faith\")\n",
        "print(starts_with_Faith)\n",
        "print(ends_with_Faith)"
      ],
      "metadata": {
        "colab": {
          "base_uri": "https://localhost:8080/"
        },
        "id": "SuMMej-moYkY",
        "outputId": "f2a66eda-d5f3-4484-88c8-412ae3105e04"
      },
      "execution_count": 39,
      "outputs": [
        {
          "output_type": "stream",
          "name": "stdout",
          "text": [
            "False\n",
            "True\n"
          ]
        }
      ]
    },
    {
      "cell_type": "code",
      "source": [
        "# Counting occurrences\n",
        "text = \"Cassandra\"\n",
        "count_s = text.count(\"s\")\n",
        "print(count_s)"
      ],
      "metadata": {
        "colab": {
          "base_uri": "https://localhost:8080/"
        },
        "id": "de65euTuob61",
        "outputId": "caff524a-8720-4bad-b6d1-dfc9a240f774"
      },
      "execution_count": 41,
      "outputs": [
        {
          "output_type": "stream",
          "name": "stdout",
          "text": [
            "2\n"
          ]
        }
      ]
    },
    {
      "cell_type": "code",
      "source": [
        "# Checking if alphabetic\n",
        "text = \"Hello1121\"\n",
        "is_alpha = text.isalpha()\n",
        "print(is_alpha)\n",
        "\n",
        "text = \"Hello\"\n",
        "is_alpha = text.isalpha()\n",
        "print(is_alpha)"
      ],
      "metadata": {
        "colab": {
          "base_uri": "https://localhost:8080/"
        },
        "id": "Ma2QmusioebO",
        "outputId": "78e74b8e-ff4c-4d28-b569-437608cc3d9c"
      },
      "execution_count": 44,
      "outputs": [
        {
          "output_type": "stream",
          "name": "stdout",
          "text": [
            "False\n",
            "True\n"
          ]
        }
      ]
    },
    {
      "cell_type": "code",
      "source": [
        "# Negative index example\n",
        "text = \"last letter/digit is O\"\n",
        "last_char = text[-1]  # Last character\n",
        "print(last_char)"
      ],
      "metadata": {
        "colab": {
          "base_uri": "https://localhost:8080/"
        },
        "id": "Uw-NHR70oxMd",
        "outputId": "1cd55e27-40bb-49ec-914c-9bb8123c1481"
      },
      "execution_count": 48,
      "outputs": [
        {
          "output_type": "stream",
          "name": "stdout",
          "text": [
            "O\n"
          ]
        }
      ]
    },
    {
      "cell_type": "code",
      "source": [
        "# Negative index slicing\n",
        "substring = text[-6:-1]\n",
        "print(substring)"
      ],
      "metadata": {
        "colab": {
          "base_uri": "https://localhost:8080/"
        },
        "id": "R5eeGD7uoymd",
        "outputId": "af847264-120f-4bcb-8ab5-8c61d44d444b"
      },
      "execution_count": 49,
      "outputs": [
        {
          "output_type": "stream",
          "name": "stdout",
          "text": [
            "t is \n"
          ]
        }
      ]
    },
    {
      "cell_type": "code",
      "source": [
        "# Reversing string\n",
        "reversed_text = text[::-1]  # Reverse the entire string\n",
        "print(reversed_text)"
      ],
      "metadata": {
        "colab": {
          "base_uri": "https://localhost:8080/"
        },
        "id": "Mbr9R7w9o2bd",
        "outputId": "9d3b3656-08ce-4408-9585-c2822ce66068"
      },
      "execution_count": 50,
      "outputs": [
        {
          "output_type": "stream",
          "name": "stdout",
          "text": [
            "O si tigid/rettel tsal\n"
          ]
        }
      ]
    },
    {
      "cell_type": "code",
      "source": [
        "# Slicing with negative step\n",
        "reversed_substring = text[-7:-1:2]  # Start from index -7, stop at index -1, step by 2\n",
        "print(reversed_substring)"
      ],
      "metadata": {
        "colab": {
          "base_uri": "https://localhost:8080/"
        },
        "id": "0woH5gW-o-OF",
        "outputId": "a9148716-0c0c-4f9f-8e51-adeab756a106"
      },
      "execution_count": 51,
      "outputs": [
        {
          "output_type": "stream",
          "name": "stdout",
          "text": [
            "i s\n"
          ]
        }
      ]
    },
    {
      "cell_type": "markdown",
      "source": [
        "**List**"
      ],
      "metadata": {
        "id": "0OB3BsVJpBIt"
      }
    },
    {
      "cell_type": "code",
      "execution_count": 53,
      "metadata": {
        "id": "1Upn_AwwRzmd",
        "outputId": "d7c9f4a8-d8fc-499a-ab1a-80561095c1da",
        "colab": {
          "base_uri": "https://localhost:8080/"
        }
      },
      "outputs": [
        {
          "output_type": "stream",
          "name": "stdout",
          "text": [
            "['guava', 'lichi', 'watermelon']\n"
          ]
        }
      ],
      "source": [
        "# Creating a list\n",
        "fruits = [\"guava\", \"lichi\", \"watermelon\"]\n",
        "print(fruits)"
      ]
    },
    {
      "cell_type": "code",
      "execution_count": 54,
      "metadata": {
        "id": "MSN71x4NRzmd",
        "colab": {
          "base_uri": "https://localhost:8080/"
        },
        "outputId": "4597e642-c173-453c-e228-2401ae5fd7a8"
      },
      "outputs": [
        {
          "output_type": "stream",
          "name": "stdout",
          "text": [
            "guava\n",
            "watermelon\n"
          ]
        }
      ],
      "source": [
        "# Accessing list elements\n",
        "first_fruit = fruits[0]\n",
        "print(first_fruit)\n",
        "\n",
        "last_fruit = fruits[-1]  # Last element\n",
        "print(last_fruit)"
      ]
    },
    {
      "cell_type": "markdown",
      "metadata": {
        "id": "EAZkybb9Rzmd"
      },
      "source": [
        "Like strings (and all other built-in sequence types), lists can be indexed and sliced:"
      ]
    },
    {
      "cell_type": "code",
      "execution_count": 55,
      "metadata": {
        "id": "mroJxa8xRzmd",
        "outputId": "3daf8e28-a8f9-4653-b378-7372e160db93",
        "colab": {
          "base_uri": "https://localhost:8080/"
        }
      },
      "outputs": [
        {
          "output_type": "stream",
          "name": "stdout",
          "text": [
            "['lichi', 'watermelon']\n"
          ]
        }
      ],
      "source": [
        "# Slicing a list\n",
        "sublist = fruits[1:3]  # Elements from index 1 to 2\n",
        "print(sublist)"
      ]
    },
    {
      "cell_type": "code",
      "execution_count": 57,
      "metadata": {
        "id": "9hZ2VcSURzmd",
        "outputId": "9038acf3-74c3-484c-e6df-1a6c5cfdbeba",
        "colab": {
          "base_uri": "https://localhost:8080/"
        }
      },
      "outputs": [
        {
          "output_type": "stream",
          "name": "stdout",
          "text": [
            "['guava', 'lichi', 'watermelon', 'orange', 'papaya']\n"
          ]
        }
      ],
      "source": [
        "# Appending an element\n",
        "fruits.append(\"papaya\")\n",
        "print(fruits)"
      ]
    },
    {
      "cell_type": "code",
      "execution_count": 58,
      "metadata": {
        "id": "7OTvEEpmRzme",
        "outputId": "246b523a-4721-4936-c296-a199298c9f5d",
        "colab": {
          "base_uri": "https://localhost:8080/"
        }
      },
      "outputs": [
        {
          "output_type": "stream",
          "name": "stdout",
          "text": [
            "['guava', 'red beans', 'lichi', 'watermelon', 'orange', 'papaya']\n"
          ]
        }
      ],
      "source": [
        "# Inserting an element\n",
        "fruits.insert(1, \"red beans\")  # Insert \"grape\" at index 1\n",
        "print(fruits)"
      ]
    },
    {
      "cell_type": "code",
      "execution_count": 59,
      "metadata": {
        "id": "CNJjqWtzRzme",
        "outputId": "4e311e8d-2d5e-4ccc-bc39-0554e8723439",
        "colab": {
          "base_uri": "https://localhost:8080/"
        }
      },
      "outputs": [
        {
          "output_type": "stream",
          "name": "stdout",
          "text": [
            "['red beans', 'lichi', 'watermelon', 'orange', 'papaya']\n",
            "watermelon\n",
            "['red beans', 'lichi', 'orange', 'papaya']\n"
          ]
        }
      ],
      "source": [
        "# Removing by value\n",
        "fruits.remove(\"guava\")\n",
        "print(fruits)\n",
        "\n",
        "# Removing by index\n",
        "removed_fruit = fruits.pop(2)  # Removes element at index 2\n",
        "print(removed_fruit)\n",
        "print(fruits)"
      ]
    },
    {
      "cell_type": "code",
      "source": [
        "# Finding the index of an element\n",
        "index_of_grape = fruits.index(\"orange\")\n",
        "print(index_of_grape)"
      ],
      "metadata": {
        "colab": {
          "base_uri": "https://localhost:8080/"
        },
        "id": "XD1ow2RDpjv1",
        "outputId": "4333b120-ff34-49c2-b746-9acd20be5696"
      },
      "execution_count": 60,
      "outputs": [
        {
          "output_type": "stream",
          "name": "stdout",
          "text": [
            "2\n"
          ]
        }
      ]
    },
    {
      "cell_type": "code",
      "execution_count": 61,
      "metadata": {
        "id": "DyOJ1nzPRzme",
        "outputId": "0c5feb59-91fe-4863-a18f-fb762ec7d938",
        "colab": {
          "base_uri": "https://localhost:8080/"
        }
      },
      "outputs": [
        {
          "output_type": "stream",
          "name": "stdout",
          "text": [
            "False\n",
            "True\n"
          ]
        }
      ],
      "source": [
        "# Checking existence of an element\n",
        "exists = \"apple\" in fruits\n",
        "print(exists)\n",
        "\n",
        "exists = \"lichi\" in fruits\n",
        "print(exists)\n"
      ]
    },
    {
      "cell_type": "code",
      "execution_count": 62,
      "metadata": {
        "id": "ODxFEFb6Rzme",
        "outputId": "2bf1249a-0fe8-46fc-add1-945ceb273a10",
        "colab": {
          "base_uri": "https://localhost:8080/"
        }
      },
      "outputs": [
        {
          "output_type": "stream",
          "name": "stdout",
          "text": [
            "4\n"
          ]
        }
      ],
      "source": [
        "# Getting the length of the list\n",
        "length = len(fruits)\n",
        "print(length)"
      ]
    },
    {
      "cell_type": "code",
      "execution_count": 63,
      "metadata": {
        "id": "k8zOnP5zRzme",
        "outputId": "7442dc59-fed2-45a7-c629-68fe25f9a94a",
        "colab": {
          "base_uri": "https://localhost:8080/"
        }
      },
      "outputs": [
        {
          "output_type": "stream",
          "name": "stdout",
          "text": [
            "['lichi', 'orange', 'papaya', 'red beans']\n"
          ]
        }
      ],
      "source": [
        "# Sorting a list\n",
        "fruits = [\"lichi\", \"orange\", \"papaya\", \"red beans\"]\n",
        "fruits.sort()\n",
        "print(fruits)"
      ]
    },
    {
      "cell_type": "code",
      "source": [
        "# Reversing a list\n",
        "fruits.reverse()\n",
        "print(fruits)"
      ],
      "metadata": {
        "colab": {
          "base_uri": "https://localhost:8080/"
        },
        "id": "gyMui8TQpwOV",
        "outputId": "0cab6884-369b-424a-f683-aa3b5485b69f"
      },
      "execution_count": 64,
      "outputs": [
        {
          "output_type": "stream",
          "name": "stdout",
          "text": [
            "['red beans', 'papaya', 'orange', 'lichi']\n"
          ]
        }
      ]
    },
    {
      "cell_type": "code",
      "source": [
        "# List comprehension\n",
        "numbers = [1 , 2 , 4 , 6 ,8]\n",
        "squared_numbers = [n ** 2 for n in numbers]\n",
        "print(squared_numbers)"
      ],
      "metadata": {
        "colab": {
          "base_uri": "https://localhost:8080/"
        },
        "id": "ji6wnUDopysN",
        "outputId": "1160d686-7573-4288-ea78-f6a4f72c3fc0"
      },
      "execution_count": 65,
      "outputs": [
        {
          "output_type": "stream",
          "name": "stdout",
          "text": [
            "[1, 4, 16, 36, 64]\n"
          ]
        }
      ]
    },
    {
      "cell_type": "code",
      "source": [
        "# Extending a list\n",
        "more_fruits = [\"dragonfruit\", \"grape\"]\n",
        "fruits.extend(more_fruits)\n",
        "print(fruits)"
      ],
      "metadata": {
        "colab": {
          "base_uri": "https://localhost:8080/"
        },
        "id": "JvTcUVxlp3tl",
        "outputId": "26776448-7202-467c-c0a8-bf3aa9f97708"
      },
      "execution_count": 66,
      "outputs": [
        {
          "output_type": "stream",
          "name": "stdout",
          "text": [
            "['red beans', 'papaya', 'orange', 'lichi', 'dragonfruit', 'grape']\n"
          ]
        }
      ]
    },
    {
      "cell_type": "code",
      "source": [
        "# List with different data types in nested lists\n",
        "mixed_nested_list = [[1, \"papaya\", 3.14], [True, \"dragonfruit\", None], [False, 42, \"meow\"]]\n",
        "\n",
        "# Accessing elements\n",
        "print(mixed_nested_list[0])\n",
        "print(mixed_nested_list[1][1])\n",
        "print(mixed_nested_list[2][2])\n",
        "\n",
        "# Modifying an element in the nested list\n",
        "mixed_nested_list[2][0] = True\n",
        "print(mixed_nested_list)"
      ],
      "metadata": {
        "colab": {
          "base_uri": "https://localhost:8080/"
        },
        "id": "OW6x5DRFqEA-",
        "outputId": "4900a70b-3190-48ae-9ca4-d36886385789"
      },
      "execution_count": 67,
      "outputs": [
        {
          "output_type": "stream",
          "name": "stdout",
          "text": [
            "[1, 'papaya', 3.14]\n",
            "dragonfruit\n",
            "meow\n",
            "[[1, 'papaya', 3.14], [True, 'dragonfruit', None], [True, 42, 'meow']]\n"
          ]
        }
      ]
    },
    {
      "cell_type": "markdown",
      "metadata": {
        "id": "7SDG91olRzmf"
      },
      "source": [
        "Lists also support operations like concatenation"
      ]
    },
    {
      "cell_type": "code",
      "execution_count": 71,
      "metadata": {
        "id": "yyLLhPTYRzmf",
        "outputId": "4efa79fd-7d56-4743-a98c-1d08d008a7b3",
        "colab": {
          "base_uri": "https://localhost:8080/"
        }
      },
      "outputs": [
        {
          "output_type": "stream",
          "name": "stdout",
          "text": [
            "[2, 4, 7, 6, 3, 9]\n"
          ]
        }
      ],
      "source": [
        "# Two lists to concatenate\n",
        "list1 = [2, 4, 7]\n",
        "list2 = [6, 3, 9]\n",
        "\n",
        "# Concatenating the lists\n",
        "result = list1 + list2\n",
        "print(result)  # Output: [1, 2, 3, 4, 5, 6]"
      ]
    },
    {
      "cell_type": "markdown",
      "metadata": {
        "id": "TQ0Azt_2Rzmg"
      },
      "source": [
        "**Dictionary**\n",
        "<p style=\"text-align: justify\">Dictionaries are sometimes found in other languages as “associative memories” or “associative arrays”. Unlike sequences, which are indexed by a range of numbers, dictionaries are indexed by keys, which can be any immutable type; strings and numbers can always be keys.</p>\n",
        "\n",
        "<p style=\"text-align: justify\">It is best to think of a dictionary as a set of key: value pairs, with the requirement that the keys are unique (within one dictionary). A pair of braces creates an empty dictionary: {}. Placing a comma-separated list of key:value pairs within the braces adds initial key:value pairs to the dictionary; this is also the way dictionaries are written on output.</p>"
      ]
    },
    {
      "cell_type": "code",
      "execution_count": 72,
      "metadata": {
        "id": "re9nWSYYRzmg",
        "colab": {
          "base_uri": "https://localhost:8080/"
        },
        "outputId": "3a6774de-ca2f-4bff-9030-ecbbcd088553"
      },
      "outputs": [
        {
          "output_type": "stream",
          "name": "stdout",
          "text": [
            "{'name': 'Tasnim', 'age': 22, 'city': 'Chatttogram'}\n"
          ]
        }
      ],
      "source": [
        "# Using curly braces\n",
        "person = {\"name\": \"Tasnim\", \"age\": 22, \"city\": \"Chatttogram\"}\n",
        "\n",
        "# Using dict() constructor\n",
        "person2 = dict(name=\"Doe\", age=30, city=\"UK\")\n",
        "\n",
        "print(person)"
      ]
    },
    {
      "cell_type": "code",
      "source": [
        "# Accessing a value using a key\n",
        "print(person[\"name\"])\n",
        "print(person2[\"age\"])\n",
        "\n",
        "# Using get() method (safe way to access values)\n",
        "print(person.get(\"city\"))\n",
        "print(person.get(\"country\", \"Not found\"))"
      ],
      "metadata": {
        "colab": {
          "base_uri": "https://localhost:8080/"
        },
        "id": "If-U0e50Ihle",
        "outputId": "c071597d-4207-486a-bd4b-5ffd993d865b"
      },
      "execution_count": 73,
      "outputs": [
        {
          "output_type": "stream",
          "name": "stdout",
          "text": [
            "Tasnim\n",
            "30\n",
            "Chatttogram\n",
            "Not found\n"
          ]
        }
      ]
    },
    {
      "cell_type": "code",
      "execution_count": 74,
      "metadata": {
        "id": "2GNIumzqRzmg",
        "outputId": "bf56b8a3-e65b-4819-c848-80496d6bfa6d",
        "colab": {
          "base_uri": "https://localhost:8080/"
        }
      },
      "outputs": [
        {
          "output_type": "stream",
          "name": "stdout",
          "text": [
            "{'name': 'Tasnim', 'age': 22, 'city': 'Chatttogram', 'country': 'USA'}\n",
            "{'name': 'Tasnim', 'age': 26, 'city': 'Chatttogram', 'country': 'USA'}\n"
          ]
        }
      ],
      "source": [
        "# Adding a new key-value pair\n",
        "person[\"country\"] = \"USA\"\n",
        "print(person)\n",
        "\n",
        "# Updating an existing key-value pair\n",
        "person[\"age\"] = 26\n",
        "print(person)"
      ]
    },
    {
      "cell_type": "code",
      "execution_count": 75,
      "metadata": {
        "id": "KzHZZf9ERzmg",
        "colab": {
          "base_uri": "https://localhost:8080/"
        },
        "outputId": "0298450f-8875-4384-c1f4-6b026a3c850f"
      },
      "outputs": [
        {
          "output_type": "stream",
          "name": "stdout",
          "text": [
            "{'name': 'Tasnim', 'age': 26, 'country': 'USA'}\n",
            "{'name': 'Tasnim', 'country': 'USA'}\n",
            "26\n",
            "{'name': 'Tasnim'}\n",
            "('country', 'USA')\n"
          ]
        }
      ],
      "source": [
        "# Using del to remove a key-value pair\n",
        "del person[\"city\"]\n",
        "print(person)\n",
        "\n",
        "# Using pop() to remove a key-value pair and get the value\n",
        "age = person.pop(\"age\")\n",
        "print(person)\n",
        "print(age)\n",
        "\n",
        "# Using popitem() to remove and return the last key-value pair\n",
        "last_item = person.popitem()\n",
        "print(person)\n",
        "print(last_item)"
      ]
    },
    {
      "cell_type": "code",
      "execution_count": 76,
      "metadata": {
        "id": "onihNMhoRzmg",
        "outputId": "b4297890-aa6c-4b7e-bb6e-66eb687cd37d",
        "colab": {
          "base_uri": "https://localhost:8080/"
        }
      },
      "outputs": [
        {
          "output_type": "stream",
          "name": "stdout",
          "text": [
            "True\n",
            "False\n"
          ]
        }
      ],
      "source": [
        "# Checking if a key exists\n",
        "print(\"name\" in person)\n",
        "print(\"age\" in person)"
      ]
    },
    {
      "cell_type": "code",
      "execution_count": 77,
      "metadata": {
        "id": "SII5SLdbRzmg",
        "outputId": "758de790-075f-49a2-ace6-9302ec711357",
        "colab": {
          "base_uri": "https://localhost:8080/"
        }
      },
      "outputs": [
        {
          "output_type": "stream",
          "name": "stdout",
          "text": [
            "name\n",
            "Tasnim\n",
            "name Tasnim\n"
          ]
        }
      ],
      "source": [
        "# Iterating over keys\n",
        "for key in person:\n",
        "    print(key)\n",
        "\n",
        "# Iterating over valuessta\n",
        "for value in person.values():\n",
        "    print(value)\n",
        "\n",
        "# Iterating over key-value pairs\n",
        "for key, value in person.items():\n",
        "    print(key, value)\n"
      ]
    },
    {
      "cell_type": "markdown",
      "metadata": {
        "id": "4S_g-H7rRzmh"
      },
      "source": [
        "**Tuples and Sets**\n",
        "<br>Use the content from [here](https://docs.python.org/3/tutorial/datastructures.html#tuples-and-sequences) to follow some examples on tuple and set."
      ]
    },
    {
      "cell_type": "code",
      "execution_count": null,
      "metadata": {
        "id": "LpzjdV5RRzmh"
      },
      "outputs": [],
      "source": [
        "# code from here"
      ]
    },
    {
      "cell_type": "markdown",
      "metadata": {
        "id": "s235DeNcRzmf"
      },
      "source": [
        "<b> Exercise 1:</b> Implement stack using list\n",
        "<p><b>Hints:</b> The list methods make it very easy to use a list as a stack, where the last element added is the first element retrieved (“last-in, first-out”). To add an item to the top of the stack, use append(). To retrieve an item from the top of the stack, use pop() without an explicit index</p>"
      ]
    },
    {
      "cell_type": "code",
      "source": [
        "#CODE\n",
        "stack = []\n",
        "\n",
        "# Push items onto the stack\n",
        "stack.append(\"Guava\")\n",
        "stack.append(\"Lichi\")\n",
        "stack.append(\"Watermelon\")\n",
        "\n",
        "print(stack.pop())  # Output: cherry\n",
        "\n",
        "print(stack[-1])  # Output: banana\n",
        "\n",
        "print(len(stack) == 0)  # Output: False\n"
      ],
      "metadata": {
        "id": "fgh96Xz5s0H-",
        "colab": {
          "base_uri": "https://localhost:8080/"
        },
        "outputId": "c25a2316-6b9b-4d26-cb85-60ad8eda0c47"
      },
      "execution_count": null,
      "outputs": [
        {
          "output_type": "stream",
          "name": "stdout",
          "text": [
            "Watermelon\n",
            "Lichi\n",
            "False\n"
          ]
        }
      ]
    },
    {
      "cell_type": "markdown",
      "metadata": {
        "id": "8IBYDynXRzmg"
      },
      "source": [
        "<b> Exercise 2:</b> Implement queue using list\n",
        "<p><b>Hints:</b> It is also possible to use a list as a queue, where the first element added is the first element retrieved (“first-in, first-out”)</p>"
      ]
    },
    {
      "cell_type": "code",
      "source": [
        "#CODE\n",
        "queue = []\n",
        "\n",
        "queue.append(\"Guava\")\n",
        "queue.append(\"Lichi\")\n",
        "queue.append(\"Watermelon\")\n",
        "\n",
        "print(queue.pop(0))\n",
        "\n",
        "print(queue[0])\n",
        "\n",
        "print(len(queue) == 0)\n"
      ],
      "metadata": {
        "id": "CoNB27jps2I2",
        "colab": {
          "base_uri": "https://localhost:8080/"
        },
        "outputId": "c23372d1-4eca-4360-efe4-a971819cbf53"
      },
      "execution_count": null,
      "outputs": [
        {
          "output_type": "stream",
          "name": "stdout",
          "text": [
            "Guava\n",
            "Lichi\n",
            "False\n"
          ]
        }
      ]
    },
    {
      "cell_type": "markdown",
      "metadata": {
        "id": "6-O7lD6gRzmh"
      },
      "source": [
        "<b> Exercise 3:</b> Define a dictionary to store the details of 3 persons. Also, print some data from the dictionary.\n",
        " <p><b>Hint:</b> You may require nesting dictionary, lists, string inside the dictionary.</p>"
      ]
    },
    {
      "cell_type": "code",
      "source": [
        "#CODE\n",
        "# Dictionary to store person details\n",
        "persons = {\n",
        "    \"Person1\": {\"name\": \"Guava\", \"age\": 21, \"city\": \"Dhaka\"},\n",
        "    \"Person2\": {\"name\": \"Lichi\", \"age\": 22, \"city\": \"Chittagong\"},\n",
        "    \"Person3\": {\"name\": \"Watermelon\", \"age\": 23, \"city\": \"Mymensingh\"}\n",
        "}\n",
        "\n",
        "print(persons[\"Person1\"][\"name\"])\n",
        "print(persons[\"Person2\"][\"city\"])\n",
        "print(persons[\"Person3\"][\"age\"])\n"
      ],
      "metadata": {
        "id": "T6JYZtq3s3zl"
      },
      "execution_count": null,
      "outputs": []
    },
    {
      "cell_type": "markdown",
      "source": [
        "# You may add more examples by yourself below"
      ],
      "metadata": {
        "id": "XFcnF_BQs5TF"
      }
    },
    {
      "cell_type": "code",
      "source": [
        "#CODE"
      ],
      "metadata": {
        "id": "ae5SVa9MtRte"
      },
      "execution_count": null,
      "outputs": []
    }
  ],
  "metadata": {
    "kernelspec": {
      "display_name": "Python 3",
      "language": "python",
      "name": "python3"
    },
    "language_info": {
      "codemirror_mode": {
        "name": "ipython",
        "version": 3
      },
      "file_extension": ".py",
      "mimetype": "text/x-python",
      "name": "python",
      "nbconvert_exporter": "python",
      "pygments_lexer": "ipython3",
      "version": "3.8.5"
    },
    "colab": {
      "provenance": []
    }
  },
  "nbformat": 4,
  "nbformat_minor": 0
}